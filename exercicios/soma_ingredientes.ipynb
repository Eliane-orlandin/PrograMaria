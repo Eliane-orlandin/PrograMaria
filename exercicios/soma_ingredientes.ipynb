{
 "cells": [
  {
   "cell_type": "markdown",
   "metadata": {},
   "source": [
    "## Soma de ingredientes\n"
   ]
  },
  {
   "cell_type": "code",
   "execution_count": 2,
   "metadata": {},
   "outputs": [],
   "source": [
    "# Importações\n",
    "import sys"
   ]
  },
  {
   "cell_type": "code",
   "execution_count": 3,
   "metadata": {},
   "outputs": [],
   "source": [
    "# Declaração de variáveis\n",
    "preco_cenoura = 4.5\n",
    "preco_oleo = 12\n",
    "preco_fermento = 15\n",
    "preco_leite = 5\n",
    "preco_acucar = 6\n",
    "preco_ovos = 12"
   ]
  },
  {
   "cell_type": "code",
   "execution_count": 4,
   "metadata": {},
   "outputs": [],
   "source": [
    "# Função para calcular o preço total\n",
    "def soma_ingredientes (tem_cenoura, tem_oleo, tem_fermento, tem_leite, tem_acucar, tem_ovos):\n",
    "    total_compra = 0\n",
    "    if tem_cenoura:\n",
    "        total_compra += preco_cenoura\n",
    "    if tem_oleo:\n",
    "        total_compra += preco_oleo\n",
    "    if tem_fermento:\n",
    "        total_compra += preco_fermento\n",
    "    if tem_leite:\n",
    "        total_compra += preco_leite\n",
    "    if tem_acucar:\n",
    "        total_compra += preco_acucar\n",
    "    if tem_ovos:\n",
    "        total_compra += preco_ovos\n",
    "    return total_compra\n"
   ]
  },
  {
   "cell_type": "code",
   "execution_count": 6,
   "metadata": {},
   "outputs": [
    {
     "name": "stdout",
     "output_type": "stream",
     "text": [
      "O total da compra é: R$ 54.5\n"
     ]
    }
   ],
   "source": [
    "terminal_tem_cenoura = True\n",
    "terminal_tem_acucar = True\n",
    "terminal_tem_ovos = True\n",
    "terminal_tem_oleo = True\n",
    "terminal_tem_fermento = True\n",
    "terminal_tem_leite = True\n",
    "\n",
    "total = soma_ingredientes(terminal_tem_cenoura, terminal_tem_oleo, terminal_tem_fermento, terminal_tem_leite, terminal_tem_acucar, terminal_tem_ovos)\n",
    "print(\"O total da compra é: R$\", total)"
   ]
  }
 ],
 "metadata": {
  "kernelspec": {
   "display_name": "Python 3",
   "language": "python",
   "name": "python3"
  },
  "language_info": {
   "codemirror_mode": {
    "name": "ipython",
    "version": 3
   },
   "file_extension": ".py",
   "mimetype": "text/x-python",
   "name": "python",
   "nbconvert_exporter": "python",
   "pygments_lexer": "ipython3",
   "version": "3.10.4"
  }
 },
 "nbformat": 4,
 "nbformat_minor": 2
}
